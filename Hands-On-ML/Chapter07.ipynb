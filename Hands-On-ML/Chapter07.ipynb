{
 "cells": [
  {
   "cell_type": "markdown",
   "id": "77bb8bc9",
   "metadata": {},
   "source": [
    "# 7장. 랜덤 포레스트"
   ]
  },
  {
   "cell_type": "markdown",
   "id": "46227d46",
   "metadata": {},
   "source": [
    "## 7.1 투표 기반 분류기"
   ]
  },
  {
   "cell_type": "markdown",
   "id": "2bb43ae9",
   "metadata": {},
   "source": [
    "#### Moon dataset"
   ]
  },
  {
   "cell_type": "code",
   "execution_count": 1,
   "id": "11bb3fd5",
   "metadata": {
    "ExecuteTime": {
     "end_time": "2021-06-02T18:03:47.269119Z",
     "start_time": "2021-06-02T18:03:46.322955Z"
    }
   },
   "outputs": [],
   "source": [
    "from sklearn.model_selection import train_test_split\n",
    "from sklearn.datasets import make_moons\n",
    "\n",
    "X, y = make_moons(n_samples=500, noise=0.30, random_state=42) # 데이터 생성\n",
    "X_train, X_test, y_train, y_test = train_test_split(X, y, random_state=42) # Train, Test 데이터 분류"
   ]
  },
  {
   "cell_type": "markdown",
   "id": "76569d50",
   "metadata": {},
   "source": [
    "#### Logistic Regression, Random Forest, SVM 직접투표 분류기"
   ]
  },
  {
   "cell_type": "code",
   "execution_count": 2,
   "id": "95246077",
   "metadata": {
    "ExecuteTime": {
     "end_time": "2021-06-02T18:03:47.393530Z",
     "start_time": "2021-06-02T18:03:47.269119Z"
    }
   },
   "outputs": [],
   "source": [
    "from sklearn.ensemble import RandomForestClassifier\n",
    "from sklearn.ensemble import VotingClassifier\n",
    "from sklearn.linear_model import LogisticRegression\n",
    "from sklearn.svm import SVC\n",
    "\n",
    "log_clf = LogisticRegression(solver=\"lbfgs\", random_state=42) # solver란 최적화 문제를 푸는데 사용하는 알고리즘, default='lbfgs' handles multinomial loss\n",
    "rnd_clf = RandomForestClassifier(n_estimators=100, random_state=42)\n",
    "svm_clf = SVC(gamma=\"scale\", random_state=42) # gamma란 커널 계수로 하나의 훈련 샘플에 미치는 영향의 범위를 결정, default='scale' uses 1 / (n_features * X.var()) as value of gamma\n",
    "\n",
    "voting_clf = VotingClassifier(\n",
    "    estimators=[('lr', log_clf), ('rf', rnd_clf), ('svc', svm_clf)],\n",
    "    voting='hard')"
   ]
  },
  {
   "cell_type": "code",
   "execution_count": 3,
   "id": "a0d58f11",
   "metadata": {
    "ExecuteTime": {
     "end_time": "2021-06-02T18:03:47.580219Z",
     "start_time": "2021-06-02T18:03:47.395611Z"
    }
   },
   "outputs": [
    {
     "data": {
      "text/plain": [
       "VotingClassifier(estimators=[('lr', LogisticRegression(random_state=42)),\n",
       "                             ('rf', RandomForestClassifier(random_state=42)),\n",
       "                             ('svc', SVC(random_state=42))])"
      ]
     },
     "execution_count": 3,
     "metadata": {},
     "output_type": "execute_result"
    }
   ],
   "source": [
    "voting_clf.fit(X_train, y_train)"
   ]
  },
  {
   "cell_type": "markdown",
   "id": "1e06b987",
   "metadata": {},
   "source": [
    "#### 각 분류기 성능 확인"
   ]
  },
  {
   "cell_type": "code",
   "execution_count": 4,
   "id": "0898f867",
   "metadata": {
    "ExecuteTime": {
     "end_time": "2021-06-02T18:03:47.934342Z",
     "start_time": "2021-06-02T18:03:47.582327Z"
    }
   },
   "outputs": [
    {
     "name": "stdout",
     "output_type": "stream",
     "text": [
      "LogisticRegression 0.864\n",
      "RandomForestClassifier 0.896\n",
      "SVC 0.896\n",
      "VotingClassifier 0.912\n"
     ]
    }
   ],
   "source": [
    "from sklearn.metrics import accuracy_score\n",
    "\n",
    "for clf in (log_clf, rnd_clf, svm_clf, voting_clf):\n",
    "    clf.fit(X_train, y_train)\n",
    "    y_pred = clf.predict(X_test)\n",
    "    print(clf.__class__.__name__, accuracy_score(y_test, y_pred))"
   ]
  },
  {
   "cell_type": "markdown",
   "id": "90cbad6f",
   "metadata": {},
   "source": [
    "#### Logistic Regression, Random Forest, SVM 간접투표 분류기"
   ]
  },
  {
   "cell_type": "code",
   "execution_count": 5,
   "id": "a2670553",
   "metadata": {
    "ExecuteTime": {
     "end_time": "2021-06-02T18:03:47.949645Z",
     "start_time": "2021-06-02T18:03:47.936674Z"
    }
   },
   "outputs": [],
   "source": [
    "from sklearn.ensemble import RandomForestClassifier\n",
    "from sklearn.ensemble import VotingClassifier\n",
    "from sklearn.linear_model import LogisticRegression\n",
    "from sklearn.svm import SVC\n",
    "\n",
    "log_clf = LogisticRegression(solver=\"lbfgs\", random_state=42)\n",
    "rnd_clf = RandomForestClassifier(n_estimators=100, random_state=42)\n",
    "svm_clf = SVC(gamma=\"scale\", random_state=42, probability=True)\n",
    "\n",
    "voting_clf = VotingClassifier(\n",
    "    estimators=[('lr', log_clf), ('rf', rnd_clf), ('svc', svm_clf)],\n",
    "    voting='soft')"
   ]
  },
  {
   "cell_type": "code",
   "execution_count": 6,
   "id": "79518b4a",
   "metadata": {
    "ExecuteTime": {
     "end_time": "2021-06-02T18:03:48.133644Z",
     "start_time": "2021-06-02T18:03:47.952461Z"
    }
   },
   "outputs": [
    {
     "data": {
      "text/plain": [
       "VotingClassifier(estimators=[('lr', LogisticRegression(random_state=42)),\n",
       "                             ('rf', RandomForestClassifier(random_state=42)),\n",
       "                             ('svc', SVC(probability=True, random_state=42))],\n",
       "                 voting='soft')"
      ]
     },
     "execution_count": 6,
     "metadata": {},
     "output_type": "execute_result"
    }
   ],
   "source": [
    "voting_clf.fit(X_train, y_train)"
   ]
  },
  {
   "cell_type": "markdown",
   "id": "51b367e8",
   "metadata": {},
   "source": [
    "#### 각 분류기 성능 확인"
   ]
  },
  {
   "cell_type": "code",
   "execution_count": 7,
   "id": "04ddaaf6",
   "metadata": {
    "ExecuteTime": {
     "end_time": "2021-06-02T18:03:48.487071Z",
     "start_time": "2021-06-02T18:03:48.136939Z"
    }
   },
   "outputs": [
    {
     "name": "stdout",
     "output_type": "stream",
     "text": [
      "LogisticRegression 0.864\n",
      "RandomForestClassifier 0.896\n",
      "SVC 0.896\n",
      "VotingClassifier 0.92\n"
     ]
    }
   ],
   "source": [
    "from sklearn.metrics import accuracy_score\n",
    "\n",
    "for clf in (log_clf, rnd_clf, svm_clf, voting_clf):\n",
    "    clf.fit(X_train, y_train)\n",
    "    y_pred = clf.predict(X_test)\n",
    "    print(clf.__class__.__name__, accuracy_score(y_test, y_pred))"
   ]
  },
  {
   "cell_type": "markdown",
   "id": "7e3d160c",
   "metadata": {},
   "source": [
    "## 7.2 배깅과 페이스팅"
   ]
  },
  {
   "cell_type": "markdown",
   "id": "bb479afd",
   "metadata": {},
   "source": [
    "#### 배깅"
   ]
  },
  {
   "cell_type": "code",
   "execution_count": 8,
   "id": "f99bd4f9",
   "metadata": {
    "ExecuteTime": {
     "end_time": "2021-06-02T18:03:49.195756Z",
     "start_time": "2021-06-02T18:03:48.488660Z"
    }
   },
   "outputs": [],
   "source": [
    "from sklearn.ensemble import BaggingClassifier\n",
    "from sklearn.tree import DecisionTreeClassifier\n",
    "\n",
    "bag_clf = BaggingClassifier(\n",
    "    DecisionTreeClassifier(random_state=42), n_estimators=500,\n",
    "    max_samples=100, bootstrap=True, random_state=42)\n",
    "bag_clf.fit(X_train, y_train)\n",
    "y_pred = bag_clf.predict(X_test)"
   ]
  },
  {
   "cell_type": "code",
   "execution_count": 9,
   "id": "5dab5449",
   "metadata": {
    "ExecuteTime": {
     "end_time": "2021-06-02T18:03:49.203054Z",
     "start_time": "2021-06-02T18:03:49.195756Z"
    }
   },
   "outputs": [
    {
     "name": "stdout",
     "output_type": "stream",
     "text": [
      "0.904\n"
     ]
    }
   ],
   "source": [
    "from sklearn.metrics import accuracy_score\n",
    "print(accuracy_score(y_test, y_pred))"
   ]
  },
  {
   "cell_type": "code",
   "execution_count": 10,
   "id": "e64cb750",
   "metadata": {
    "ExecuteTime": {
     "end_time": "2021-06-02T18:03:49.218919Z",
     "start_time": "2021-06-02T18:03:49.203054Z"
    }
   },
   "outputs": [
    {
     "name": "stdout",
     "output_type": "stream",
     "text": [
      "0.856\n"
     ]
    }
   ],
   "source": [
    "tree_clf = DecisionTreeClassifier(random_state=42)\n",
    "tree_clf.fit(X_train, y_train)\n",
    "y_pred_tree = tree_clf.predict(X_test)\n",
    "print(accuracy_score(y_test, y_pred_tree))"
   ]
  },
  {
   "cell_type": "markdown",
   "id": "10c80f8e",
   "metadata": {},
   "source": [
    "#### 페이스팅"
   ]
  },
  {
   "cell_type": "code",
   "execution_count": 11,
   "id": "62225b1d",
   "metadata": {
    "ExecuteTime": {
     "end_time": "2021-06-02T18:03:49.917023Z",
     "start_time": "2021-06-02T18:03:49.219424Z"
    }
   },
   "outputs": [],
   "source": [
    "from sklearn.ensemble import BaggingClassifier\n",
    "from sklearn.tree import DecisionTreeClassifier\n",
    "\n",
    "bag_clf = BaggingClassifier(\n",
    "    DecisionTreeClassifier(random_state=42), n_estimators=500,\n",
    "    max_samples=100, bootstrap=False, random_state=42)\n",
    "bag_clf.fit(X_train, y_train)\n",
    "y_pred = bag_clf.predict(X_test)"
   ]
  },
  {
   "cell_type": "code",
   "execution_count": 12,
   "id": "dd9936f9",
   "metadata": {
    "ExecuteTime": {
     "end_time": "2021-06-02T18:03:49.945025Z",
     "start_time": "2021-06-02T18:03:49.917600Z"
    }
   },
   "outputs": [
    {
     "name": "stdout",
     "output_type": "stream",
     "text": [
      "0.92\n"
     ]
    }
   ],
   "source": [
    "from sklearn.metrics import accuracy_score\n",
    "print(accuracy_score(y_test, y_pred))"
   ]
  },
  {
   "cell_type": "markdown",
   "id": "2a18ca75",
   "metadata": {},
   "source": [
    "#### oob 평가"
   ]
  },
  {
   "cell_type": "code",
   "execution_count": 13,
   "id": "287bf5d9",
   "metadata": {
    "ExecuteTime": {
     "end_time": "2021-06-02T18:03:50.790808Z",
     "start_time": "2021-06-02T18:03:49.946629Z"
    }
   },
   "outputs": [
    {
     "data": {
      "text/plain": [
       "0.92"
      ]
     },
     "execution_count": 13,
     "metadata": {},
     "output_type": "execute_result"
    }
   ],
   "source": [
    "from sklearn.ensemble import BaggingClassifier\n",
    "from sklearn.tree import DecisionTreeClassifier\n",
    "\n",
    "bag_clf = BaggingClassifier(\n",
    "    DecisionTreeClassifier(random_state=42), n_estimators=500,\n",
    "    max_samples=100, bootstrap=True, n_jobs=1, oob_score=True) #  n_jobs 매개변수를 이용하여 사용할 코어 수를 지정 가능, 사용하는 CPU 코어 개수에 비례해서 속도도 빨라짐\n",
    "bag_clf.fit(X_train, y_train)\n",
    "bag_clf.oob_score_"
   ]
  },
  {
   "cell_type": "code",
   "execution_count": 14,
   "id": "57656f3b",
   "metadata": {
    "ExecuteTime": {
     "end_time": "2021-06-02T18:03:50.850954Z",
     "start_time": "2021-06-02T18:03:50.792463Z"
    }
   },
   "outputs": [
    {
     "name": "stdout",
     "output_type": "stream",
     "text": [
      "0.904\n"
     ]
    }
   ],
   "source": [
    "from sklearn.metrics import accuracy_score\n",
    "y_pred = bag_clf.predict(X_test)\n",
    "print(accuracy_score(y_test, y_pred))"
   ]
  },
  {
   "cell_type": "code",
   "execution_count": 15,
   "id": "c1c97286",
   "metadata": {
    "ExecuteTime": {
     "end_time": "2021-06-02T18:03:50.882233Z",
     "start_time": "2021-06-02T18:03:50.852528Z"
    }
   },
   "outputs": [
    {
     "data": {
      "text/plain": [
       "array([[0.37563452, 0.62436548],\n",
       "       [0.37903226, 0.62096774],\n",
       "       [1.        , 0.        ],\n",
       "       [0.008     , 0.992     ],\n",
       "       [0.01574803, 0.98425197],\n",
       "       [0.11842105, 0.88157895],\n",
       "       [0.3814433 , 0.6185567 ],\n",
       "       [0.06806283, 0.93193717],\n",
       "       [0.94344473, 0.05655527],\n",
       "       [0.83838384, 0.16161616],\n",
       "       [0.49869452, 0.50130548],\n",
       "       [0.04615385, 0.95384615],\n",
       "       [0.74338624, 0.25661376],\n",
       "       [0.845953  , 0.154047  ],\n",
       "       [0.93646409, 0.06353591],\n",
       "       [0.06297229, 0.93702771],\n",
       "       [0.02368421, 0.97631579],\n",
       "       [0.92030848, 0.07969152],\n",
       "       [0.67292225, 0.32707775],\n",
       "       [0.93861893, 0.06138107],\n",
       "       [0.0475    , 0.9525    ],\n",
       "       [0.23796791, 0.76203209],\n",
       "       [0.85789474, 0.14210526],\n",
       "       [0.99487179, 0.00512821],\n",
       "       [0.96286472, 0.03713528],\n",
       "       [0.        , 1.        ],\n",
       "       [0.94750656, 0.05249344],\n",
       "       [0.99738903, 0.00261097],\n",
       "       [0.02864583, 0.97135417],\n",
       "       [0.76081425, 0.23918575],\n",
       "       [0.        , 1.        ],\n",
       "       [1.        , 0.        ],\n",
       "       [0.01876676, 0.98123324],\n",
       "       [0.08661417, 0.91338583],\n",
       "       [0.10483871, 0.89516129],\n",
       "       [0.9811828 , 0.0188172 ],\n",
       "       [0.00819672, 0.99180328],\n",
       "       [0.5245478 , 0.4754522 ],\n",
       "       [0.01530612, 0.98469388],\n",
       "       [0.99477807, 0.00522193],\n",
       "       [0.1155914 , 0.8844086 ],\n",
       "       [0.38961039, 0.61038961],\n",
       "       [1.        , 0.        ],\n",
       "       [0.9822335 , 0.0177665 ],\n",
       "       [0.01038961, 0.98961039],\n",
       "       [0.99744246, 0.00255754],\n",
       "       [1.        , 0.        ],\n",
       "       [0.04864865, 0.95135135],\n",
       "       [0.98659517, 0.01340483],\n",
       "       [0.04087193, 0.95912807],\n",
       "       [0.95698925, 0.04301075],\n",
       "       [0.82835821, 0.17164179],\n",
       "       [0.91666667, 0.08333333],\n",
       "       [0.77662338, 0.22337662],\n",
       "       [0.01851852, 0.98148148],\n",
       "       [0.14099217, 0.85900783],\n",
       "       [0.82994924, 0.17005076],\n",
       "       [0.00777202, 0.99222798],\n",
       "       [0.01017812, 0.98982188],\n",
       "       [0.05154639, 0.94845361],\n",
       "       [0.84654731, 0.15345269],\n",
       "       [0.62222222, 0.37777778],\n",
       "       [0.74936061, 0.25063939],\n",
       "       [0.99481865, 0.00518135],\n",
       "       [0.01329787, 0.98670213],\n",
       "       [0.82804233, 0.17195767],\n",
       "       [0.98930481, 0.01069519],\n",
       "       [0.9924812 , 0.0075188 ],\n",
       "       [0.57142857, 0.42857143],\n",
       "       [0.99226804, 0.00773196],\n",
       "       [0.3626943 , 0.6373057 ],\n",
       "       [0.30708661, 0.69291339],\n",
       "       [0.42133333, 0.57866667],\n",
       "       [0.62992126, 0.37007874],\n",
       "       [0.01554404, 0.98445596],\n",
       "       [0.28795812, 0.71204188],\n",
       "       [0.91472868, 0.08527132],\n",
       "       [1.        , 0.        ],\n",
       "       [0.0278481 , 0.9721519 ],\n",
       "       [0.97127937, 0.02872063],\n",
       "       [0.01282051, 0.98717949],\n",
       "       [0.2311828 , 0.7688172 ],\n",
       "       [0.14360313, 0.85639687],\n",
       "       [0.47184987, 0.52815013],\n",
       "       [0.99244332, 0.00755668],\n",
       "       [0.04812834, 0.95187166],\n",
       "       [0.59278351, 0.40721649],\n",
       "       [0.06233766, 0.93766234],\n",
       "       [0.04438642, 0.95561358],\n",
       "       [0.00505051, 0.99494949],\n",
       "       [0.32467532, 0.67532468],\n",
       "       [1.        , 0.        ],\n",
       "       [0.00765306, 0.99234694],\n",
       "       [0.04043127, 0.95956873],\n",
       "       [0.00759494, 0.99240506],\n",
       "       [0.76329787, 0.23670213],\n",
       "       [0.64615385, 0.35384615],\n",
       "       [0.065     , 0.935     ],\n",
       "       [1.        , 0.        ],\n",
       "       [0.34564644, 0.65435356],\n",
       "       [0.6984127 , 0.3015873 ],\n",
       "       [0.00806452, 0.99193548],\n",
       "       [0.09840426, 0.90159574],\n",
       "       [0.4351145 , 0.5648855 ],\n",
       "       [0.97222222, 0.02777778],\n",
       "       [0.08093995, 0.91906005],\n",
       "       [0.97395833, 0.02604167],\n",
       "       [0.40848806, 0.59151194],\n",
       "       [0.31843575, 0.68156425],\n",
       "       [0.99492386, 0.00507614],\n",
       "       [0.20734908, 0.79265092],\n",
       "       [0.81185567, 0.18814433],\n",
       "       [0.27248677, 0.72751323],\n",
       "       [0.7721519 , 0.2278481 ],\n",
       "       [0.99731183, 0.00268817],\n",
       "       [0.9921466 , 0.0078534 ],\n",
       "       [0.        , 1.        ],\n",
       "       [0.00266667, 0.99733333],\n",
       "       [0.46329114, 0.53670886],\n",
       "       [0.99737533, 0.00262467],\n",
       "       [0.04358974, 0.95641026],\n",
       "       [0.98209719, 0.01790281],\n",
       "       [0.97674419, 0.02325581],\n",
       "       [1.        , 0.        ],\n",
       "       [0.9488491 , 0.0511509 ],\n",
       "       [0.96712329, 0.03287671],\n",
       "       [0.03804348, 0.96195652],\n",
       "       [0.95618557, 0.04381443],\n",
       "       [0.95652174, 0.04347826],\n",
       "       [0.03021978, 0.96978022],\n",
       "       [0.23136247, 0.76863753],\n",
       "       [0.86082474, 0.13917526],\n",
       "       [0.38324873, 0.61675127],\n",
       "       [0.90026247, 0.09973753],\n",
       "       [0.00263158, 0.99736842],\n",
       "       [0.04010695, 0.95989305],\n",
       "       [0.81648936, 0.18351064],\n",
       "       [0.74520548, 0.25479452],\n",
       "       [0.55729167, 0.44270833],\n",
       "       [0.90726817, 0.09273183],\n",
       "       [0.92391304, 0.07608696],\n",
       "       [0.09498681, 0.90501319],\n",
       "       [0.78734177, 0.21265823],\n",
       "       [0.05804749, 0.94195251],\n",
       "       [0.008     , 0.992     ],\n",
       "       [0.10230179, 0.89769821],\n",
       "       [0.78666667, 0.21333333],\n",
       "       [0.96816976, 0.03183024],\n",
       "       [1.        , 0.        ],\n",
       "       [0.05398458, 0.94601542],\n",
       "       [0.00257069, 0.99742931],\n",
       "       [0.06476684, 0.93523316],\n",
       "       [0.02518892, 0.97481108],\n",
       "       [1.        , 0.        ],\n",
       "       [0.98947368, 0.01052632],\n",
       "       [0.89637306, 0.10362694],\n",
       "       [1.        , 0.        ],\n",
       "       [1.        , 0.        ],\n",
       "       [0.90078329, 0.09921671],\n",
       "       [0.0078534 , 0.9921466 ],\n",
       "       [0.7002584 , 0.2997416 ],\n",
       "       [0.32453826, 0.67546174],\n",
       "       [0.07323232, 0.92676768],\n",
       "       [0.01038961, 0.98961039],\n",
       "       [0.36828645, 0.63171355],\n",
       "       [0.9921875 , 0.0078125 ],\n",
       "       [0.95939086, 0.04060914],\n",
       "       [0.        , 1.        ],\n",
       "       [0.99450549, 0.00549451],\n",
       "       [0.06020942, 0.93979058],\n",
       "       [0.00767263, 0.99232737],\n",
       "       [0.93817204, 0.06182796],\n",
       "       [0.01804124, 0.98195876],\n",
       "       [0.01055409, 0.98944591],\n",
       "       [1.        , 0.        ],\n",
       "       [0.03421053, 0.96578947],\n",
       "       [0.84920635, 0.15079365],\n",
       "       [0.91666667, 0.08333333],\n",
       "       [0.0521978 , 0.9478022 ],\n",
       "       [0.92349727, 0.07650273],\n",
       "       [0.91358025, 0.08641975],\n",
       "       [0.96      , 0.04      ],\n",
       "       [0.01907357, 0.98092643],\n",
       "       [0.00793651, 0.99206349],\n",
       "       [0.9974026 , 0.0025974 ],\n",
       "       [0.23560209, 0.76439791],\n",
       "       [0.99734748, 0.00265252],\n",
       "       [0.08376963, 0.91623037],\n",
       "       [0.03684211, 0.96315789],\n",
       "       [0.9871134 , 0.0128866 ],\n",
       "       [0.        , 1.        ],\n",
       "       [0.21573604, 0.78426396],\n",
       "       [0.90106952, 0.09893048],\n",
       "       [0.93023256, 0.06976744],\n",
       "       [0.62466488, 0.37533512],\n",
       "       [0.70291777, 0.29708223],\n",
       "       [0.02356021, 0.97643979],\n",
       "       [0.23529412, 0.76470588],\n",
       "       [0.99481865, 0.00518135],\n",
       "       [0.93814433, 0.06185567],\n",
       "       [0.90740741, 0.09259259],\n",
       "       [0.9921875 , 0.0078125 ],\n",
       "       [0.06504065, 0.93495935],\n",
       "       [0.00767263, 0.99232737],\n",
       "       [0.09438776, 0.90561224],\n",
       "       [0.47229551, 0.52770449],\n",
       "       [0.        , 1.        ],\n",
       "       [0.03723404, 0.96276596],\n",
       "       [0.95595855, 0.04404145],\n",
       "       [0.0819209 , 0.9180791 ],\n",
       "       [0.11168831, 0.88831169],\n",
       "       [0.87792208, 0.12207792],\n",
       "       [0.06521739, 0.93478261],\n",
       "       [0.38010204, 0.61989796],\n",
       "       [0.00773196, 0.99226804],\n",
       "       [1.        , 0.        ],\n",
       "       [0.00519481, 0.99480519],\n",
       "       [0.00761421, 0.99238579],\n",
       "       [0.92722372, 0.07277628],\n",
       "       [0.90104167, 0.09895833],\n",
       "       [0.95698925, 0.04301075],\n",
       "       [0.01052632, 0.98947368],\n",
       "       [0.10230179, 0.89769821],\n",
       "       [0.94818653, 0.05181347],\n",
       "       [0.13874346, 0.86125654],\n",
       "       [0.0106383 , 0.9893617 ],\n",
       "       [0.2638191 , 0.7361809 ],\n",
       "       [0.98453608, 0.01546392],\n",
       "       [0.86189258, 0.13810742],\n",
       "       [0.1080402 , 0.8919598 ],\n",
       "       [0.74550129, 0.25449871],\n",
       "       [0.92553191, 0.07446809],\n",
       "       [0.171875  , 0.828125  ],\n",
       "       [0.16962025, 0.83037975],\n",
       "       [1.        , 0.        ],\n",
       "       [0.        , 1.        ],\n",
       "       [0.00511509, 0.99488491],\n",
       "       [0.01075269, 0.98924731],\n",
       "       [0.33333333, 0.66666667],\n",
       "       [0.85492228, 0.14507772],\n",
       "       [0.03069054, 0.96930946],\n",
       "       [0.97974684, 0.02025316],\n",
       "       [0.87792208, 0.12207792],\n",
       "       [0.0025974 , 0.9974026 ],\n",
       "       [0.78894472, 0.21105528],\n",
       "       [0.99236641, 0.00763359],\n",
       "       [0.00274725, 0.99725275],\n",
       "       [1.        , 0.        ],\n",
       "       [0.04282116, 0.95717884],\n",
       "       [0.00503778, 0.99496222],\n",
       "       [0.10526316, 0.89473684],\n",
       "       [0.23280423, 0.76719577],\n",
       "       [0.85411141, 0.14588859],\n",
       "       [0.07084469, 0.92915531],\n",
       "       [0.99742268, 0.00257732],\n",
       "       [0.67179487, 0.32820513],\n",
       "       [0.10497238, 0.89502762],\n",
       "       [0.64498645, 0.35501355],\n",
       "       [0.8381201 , 0.1618799 ],\n",
       "       [0.0127551 , 0.9872449 ],\n",
       "       [1.        , 0.        ],\n",
       "       [0.01308901, 0.98691099],\n",
       "       [0.        , 1.        ],\n",
       "       [0.70634921, 0.29365079],\n",
       "       [0.        , 1.        ],\n",
       "       [0.9825    , 0.0175    ],\n",
       "       [0.13802083, 0.86197917],\n",
       "       [0.78350515, 0.21649485],\n",
       "       [0.12661499, 0.87338501],\n",
       "       [0.99489796, 0.00510204],\n",
       "       [0.89066667, 0.10933333],\n",
       "       [0.0074813 , 0.9925187 ],\n",
       "       [0.06905371, 0.93094629],\n",
       "       [0.12977099, 0.87022901],\n",
       "       [0.07988981, 0.92011019],\n",
       "       [0.0026455 , 0.9973545 ],\n",
       "       [0.97416021, 0.02583979],\n",
       "       [0.85012285, 0.14987715],\n",
       "       [0.17213115, 0.82786885],\n",
       "       [0.93029491, 0.06970509],\n",
       "       [0.07216495, 0.92783505],\n",
       "       [0.61780105, 0.38219895],\n",
       "       [0.1281407 , 0.8718593 ],\n",
       "       [0.95607235, 0.04392765],\n",
       "       [0.88916877, 0.11083123],\n",
       "       [0.01347709, 0.98652291],\n",
       "       [0.93596059, 0.06403941],\n",
       "       [0.888     , 0.112     ],\n",
       "       [0.00992556, 0.99007444],\n",
       "       [0.06329114, 0.93670886],\n",
       "       [1.        , 0.        ],\n",
       "       [0.02791878, 0.97208122],\n",
       "       [0.98503741, 0.01496259],\n",
       "       [0.11027569, 0.88972431],\n",
       "       [0.8925    , 0.1075    ],\n",
       "       [0.99737533, 0.00262467],\n",
       "       [0.00261097, 0.99738903],\n",
       "       [0.04155844, 0.95844156],\n",
       "       [0.66666667, 0.33333333],\n",
       "       [0.        , 1.        ],\n",
       "       [1.        , 0.        ],\n",
       "       [0.65853659, 0.34146341],\n",
       "       [0.82133333, 0.17866667],\n",
       "       [1.        , 0.        ],\n",
       "       [0.70027248, 0.29972752],\n",
       "       [0.47527473, 0.52472527],\n",
       "       [0.03448276, 0.96551724],\n",
       "       [0.82989691, 0.17010309],\n",
       "       [0.00815217, 0.99184783],\n",
       "       [1.        , 0.        ],\n",
       "       [0.72727273, 0.27272727],\n",
       "       [1.        , 0.        ],\n",
       "       [1.        , 0.        ],\n",
       "       [0.86089239, 0.13910761],\n",
       "       [0.28266667, 0.71733333],\n",
       "       [0.17021277, 0.82978723],\n",
       "       [0.25066667, 0.74933333],\n",
       "       [0.0025641 , 0.9974359 ],\n",
       "       [0.72750643, 0.27249357],\n",
       "       [0.8806366 , 0.1193634 ],\n",
       "       [0.04473684, 0.95526316],\n",
       "       [1.        , 0.        ],\n",
       "       [0.9762533 , 0.0237467 ],\n",
       "       [1.        , 0.        ],\n",
       "       [0.01078167, 0.98921833],\n",
       "       [0.06443299, 0.93556701],\n",
       "       [0.92125984, 0.07874016],\n",
       "       [0.93994778, 0.06005222],\n",
       "       [0.9925187 , 0.0074813 ],\n",
       "       [0.2382199 , 0.7617801 ],\n",
       "       [0.97883598, 0.02116402],\n",
       "       [0.12860892, 0.87139108],\n",
       "       [0.95488722, 0.04511278],\n",
       "       [0.0390625 , 0.9609375 ],\n",
       "       [0.97911227, 0.02088773],\n",
       "       [0.99484536, 0.00515464],\n",
       "       [0.9871134 , 0.0128866 ],\n",
       "       [0.        , 1.        ],\n",
       "       [0.94344473, 0.05655527],\n",
       "       [0.03053435, 0.96946565],\n",
       "       [0.04812834, 0.95187166],\n",
       "       [0.05943152, 0.94056848],\n",
       "       [0.        , 1.        ],\n",
       "       [1.        , 0.        ],\n",
       "       [0.99204244, 0.00795756],\n",
       "       [0.        , 1.        ],\n",
       "       [0.94818653, 0.05181347],\n",
       "       [0.07360406, 0.92639594],\n",
       "       [1.        , 0.        ],\n",
       "       [0.22506394, 0.77493606],\n",
       "       [0.00819672, 0.99180328],\n",
       "       [0.06315789, 0.93684211],\n",
       "       [0.0026738 , 0.9973262 ],\n",
       "       [0.81491003, 0.18508997],\n",
       "       [0.07103825, 0.92896175],\n",
       "       [0.13910761, 0.86089239],\n",
       "       [1.        , 0.        ],\n",
       "       [0.9245283 , 0.0754717 ],\n",
       "       [0.22894737, 0.77105263],\n",
       "       [0.93882979, 0.06117021],\n",
       "       [0.06860158, 0.93139842],\n",
       "       [0.11405836, 0.88594164],\n",
       "       [1.        , 0.        ],\n",
       "       [0.91884817, 0.08115183],\n",
       "       [0.51421189, 0.48578811],\n",
       "       [0.86315789, 0.13684211],\n",
       "       [1.        , 0.        ],\n",
       "       [0.04851752, 0.95148248],\n",
       "       [0.93333333, 0.06666667],\n",
       "       [0.03457447, 0.96542553],\n",
       "       [0.14745308, 0.85254692],\n",
       "       [0.93638677, 0.06361323],\n",
       "       [1.        , 0.        ],\n",
       "       [0.07526882, 0.92473118],\n",
       "       [0.71698113, 0.28301887]])"
      ]
     },
     "execution_count": 15,
     "metadata": {},
     "output_type": "execute_result"
    }
   ],
   "source": [
    "bag_clf.oob_decision_function_"
   ]
  },
  {
   "cell_type": "markdown",
   "id": "0aa4ee79",
   "metadata": {},
   "source": [
    "## 7.4 랜덤 포레스트"
   ]
  },
  {
   "cell_type": "markdown",
   "id": "55d48ee3",
   "metadata": {},
   "source": [
    "#### 랜덤 포레스트"
   ]
  },
  {
   "cell_type": "code",
   "execution_count": 16,
   "id": "47c50f8c",
   "metadata": {
    "ExecuteTime": {
     "end_time": "2021-06-02T18:03:51.748833Z",
     "start_time": "2021-06-02T18:03:50.884659Z"
    }
   },
   "outputs": [],
   "source": [
    "from sklearn.ensemble import RandomForestClassifier\n",
    "\n",
    "rnd_clf = RandomForestClassifier(n_estimators=500, max_leaf_nodes=16, n_jobs=-1) # n_jobs=-1로 지정하면 컴퓨터의 모든 코어를 사용\n",
    "rnd_clf.fit(X_train, y_train)\n",
    "\n",
    "y_pred_rf = rnd_clf.predict(X_test)"
   ]
  },
  {
   "cell_type": "markdown",
   "id": "9bcc9d0e",
   "metadata": {},
   "source": [
    "#### 특성 중요도"
   ]
  },
  {
   "cell_type": "code",
   "execution_count": 17,
   "id": "5dc2acf6",
   "metadata": {
    "ExecuteTime": {
     "end_time": "2021-06-02T18:03:52.627021Z",
     "start_time": "2021-06-02T18:03:51.749359Z"
    }
   },
   "outputs": [
    {
     "name": "stdout",
     "output_type": "stream",
     "text": [
      "sepal length (cm) 0.09315427892870644\n",
      "sepal width (cm) 0.023255050143990968\n",
      "petal length (cm) 0.41271895472588577\n",
      "petal width (cm) 0.4708717162014168\n"
     ]
    }
   ],
   "source": [
    "from sklearn.datasets import load_iris\n",
    "iris = load_iris()\n",
    "rnd_clf = RandomForestClassifier(n_estimators=500, n_jobs=-1)\n",
    "rnd_clf.fit(iris[\"data\"], iris[\"target\"])\n",
    "for name, score in zip(iris[\"feature_names\"], rnd_clf.feature_importances_):\n",
    "    print(name, score)"
   ]
  },
  {
   "cell_type": "markdown",
   "id": "98efa346",
   "metadata": {},
   "source": [
    "## 7.5 부스팅"
   ]
  },
  {
   "cell_type": "markdown",
   "id": "afadd743",
   "metadata": {},
   "source": [
    "#### 에이다 부스트"
   ]
  },
  {
   "cell_type": "code",
   "execution_count": 18,
   "id": "bc212b49",
   "metadata": {
    "ExecuteTime": {
     "end_time": "2021-06-02T18:03:52.969250Z",
     "start_time": "2021-06-02T18:03:52.627021Z"
    }
   },
   "outputs": [
    {
     "data": {
      "text/plain": [
       "AdaBoostClassifier(base_estimator=DecisionTreeClassifier(max_depth=1),\n",
       "                   learning_rate=0.5, n_estimators=200, random_state=42)"
      ]
     },
     "execution_count": 18,
     "metadata": {},
     "output_type": "execute_result"
    }
   ],
   "source": [
    "from sklearn.ensemble import AdaBoostClassifier\n",
    "\n",
    "ada_clf = AdaBoostClassifier(\n",
    "    DecisionTreeClassifier(max_depth=1), n_estimators=200,\n",
    "    algorithm=\"SAMME.R\", learning_rate=0.5, random_state=42) # 'SAMME.R': real boosting algorithm,‘SAMME': discrete boosting algorithm, 'SAMME.R'이 'SAMME'보다 일반적으로 빠르게 수렴\n",
    "ada_clf.fit(X_train, y_train)"
   ]
  }
 ],
 "metadata": {
  "kernelspec": {
   "display_name": "Python 3",
   "language": "python",
   "name": "python3"
  },
  "language_info": {
   "codemirror_mode": {
    "name": "ipython",
    "version": 3
   },
   "file_extension": ".py",
   "mimetype": "text/x-python",
   "name": "python",
   "nbconvert_exporter": "python",
   "pygments_lexer": "ipython3",
   "version": "3.7.9"
  },
  "toc": {
   "base_numbering": 1,
   "nav_menu": {},
   "number_sections": false,
   "sideBar": true,
   "skip_h1_title": false,
   "title_cell": "Table of Contents",
   "title_sidebar": "Contents",
   "toc_cell": false,
   "toc_position": {},
   "toc_section_display": true,
   "toc_window_display": false
  }
 },
 "nbformat": 4,
 "nbformat_minor": 5
}
