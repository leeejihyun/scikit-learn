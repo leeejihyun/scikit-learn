{
 "cells": [
  {
   "cell_type": "markdown",
   "id": "064f9df4",
   "metadata": {},
   "source": [
    "# 4장. 선형회귀 및 로지스틱 회귀"
   ]
  },
  {
   "cell_type": "markdown",
   "id": "c9220321",
   "metadata": {},
   "source": [
    "## 4.1 선형 회귀 - 해석적 방법"
   ]
  },
  {
   "cell_type": "markdown",
   "id": "aae893e6",
   "metadata": {},
   "source": [
    "### 4.1.1 정규방정식"
   ]
  },
  {
   "cell_type": "markdown",
   "id": "b1717d23",
   "metadata": {},
   "source": [
    "#### 난수 값으로 선형 데이터셋 생성하기"
   ]
  },
  {
   "cell_type": "code",
   "execution_count": 1,
   "id": "5ccc9465",
   "metadata": {
    "ExecuteTime": {
     "end_time": "2021-05-25T13:47:53.697009Z",
     "start_time": "2021-05-25T13:47:53.531060Z"
    }
   },
   "outputs": [],
   "source": [
    "import numpy as np\n",
    "\n",
    "X = 2 * np.random.rand(100, 1)          # np.random.rand(m, n): 0~1의 균일분포 난수를 생성한 뒤 배열(m, n)로 저장\n",
    "y = 4 + 3 * X + np.random.randn(100, 1) # np.random.randn(m, n): 평균 0, 표준편차 1의 가우시안분포 난수를 생성한 뒤 배열(m, n)로 저장"
   ]
  },
  {
   "cell_type": "code",
   "execution_count": 2,
   "id": "89df3f9e",
   "metadata": {
    "ExecuteTime": {
     "end_time": "2021-05-25T13:47:53.712520Z",
     "start_time": "2021-05-25T13:47:53.699007Z"
    }
   },
   "outputs": [
    {
     "name": "stdout",
     "output_type": "stream",
     "text": [
      "[[1.57532861]\n",
      " [0.34115132]\n",
      " [1.74184644]\n",
      " [0.35744998]\n",
      " [1.79303739]]\n",
      "(100, 1)\n"
     ]
    }
   ],
   "source": [
    "print(X[:5])\n",
    "print(X.shape)"
   ]
  },
  {
   "cell_type": "code",
   "execution_count": 3,
   "id": "30bc4390",
   "metadata": {
    "ExecuteTime": {
     "end_time": "2021-05-25T13:47:54.899480Z",
     "start_time": "2021-05-25T13:47:53.714517Z"
    }
   },
   "outputs": [
    {
     "data": {
      "image/png": "[encoded data removed]",
      "text/plain": [
       "<Figure size 432x288 with 1 Axes>"
      ]
     },
     "metadata": {
      "needs_background": "light"
     },
     "output_type": "display_data"
    }
   ],
   "source": [
    "import matplotlib.pyplot as plt\n",
    "\n",
    "plt.plot(X, y, \"b.\")                        # b: blue, .: dot\n",
    "plt.xlabel(\"$x_1$\", fontsize=18)            # $: 기울임꼴\n",
    "plt.ylabel(\"$y$\", rotation=0, fontsize=18)\n",
    "plt.axis([0, 2, 0, 15])                     # plt.axis([x_min, x_max, y_min, y_max]): 그래프 출력 범위 지정\n",
    "plt.show()"
   ]
  },
  {
   "cell_type": "markdown",
   "id": "743b8c1a",
   "metadata": {},
   "source": [
    "#### 정규 방정식 확인하기"
   ]
  },
  {
   "cell_type": "code",
   "execution_count": 4,
   "id": "9c9fc0e0",
   "metadata": {
    "ExecuteTime": {
     "end_time": "2021-05-25T13:47:54.930368Z",
     "start_time": "2021-05-25T13:47:54.901919Z"
    }
   },
   "outputs": [],
   "source": [
    "# np.c_[a, b]: 1차원 배열 a, b를 세로로 붙여서(concat) 2차원 배열 생성하기, 모든 샘플에 x0=1 추가\n",
    "X_b = np.c_[np.ones((100, 1)), X]\n",
    "\n",
    "theta_best = np.linalg.inv(X_b.T.dot(X_b)).dot(X_b.T).dot(y) # np.linalg.inv(x): 역행렬 계산, np.dot(x): 행렬 간 내적곱"
   ]
  },
  {
   "cell_type": "code",
   "execution_count": 5,
   "id": "c6de7c0f",
   "metadata": {
    "ExecuteTime": {
     "end_time": "2021-05-25T13:47:54.946019Z",
     "start_time": "2021-05-25T13:47:54.932931Z"
    }
   },
   "outputs": [
    {
     "data": {
      "text/plain": [
       "array([[4.01280403],\n",
       "       [2.95093358]])"
      ]
     },
     "execution_count": 5,
     "metadata": {},
     "output_type": "execute_result"
    }
   ],
   "source": [
    "theta_best"
   ]
  },
  {
   "cell_type": "code",
   "execution_count": 6,
   "id": "5bcb4038",
   "metadata": {
    "ExecuteTime": {
     "end_time": "2021-05-25T13:47:54.961308Z",
     "start_time": "2021-05-25T13:47:54.948099Z"
    },
    "scrolled": true
   },
   "outputs": [
    {
     "name": "stdout",
     "output_type": "stream",
     "text": [
      "[[1.]\n",
      " [1.]\n",
      " [1.]\n",
      " [1.]\n",
      " [1.]]\n"
     ]
    }
   ],
   "source": [
    "print(np.ones((100, 1))[:5])"
   ]
  },
  {
   "cell_type": "code",
   "execution_count": 7,
   "id": "8e7857a9",
   "metadata": {
    "ExecuteTime": {
     "end_time": "2021-05-25T13:47:54.976874Z",
     "start_time": "2021-05-25T13:47:54.965501Z"
    },
    "scrolled": true
   },
   "outputs": [
    {
     "name": "stdout",
     "output_type": "stream",
     "text": [
      "[[1.57532861]\n",
      " [0.34115132]\n",
      " [1.74184644]\n",
      " [0.35744998]\n",
      " [1.79303739]]\n",
      "(100, 1)\n"
     ]
    }
   ],
   "source": [
    "print(X[:5])\n",
    "print(X.shape)"
   ]
  },
  {
   "cell_type": "code",
   "execution_count": 8,
   "id": "ca0102ef",
   "metadata": {
    "ExecuteTime": {
     "end_time": "2021-05-25T13:47:54.992765Z",
     "start_time": "2021-05-25T13:47:54.980593Z"
    },
    "scrolled": true
   },
   "outputs": [
    {
     "name": "stdout",
     "output_type": "stream",
     "text": [
      "[[1.         1.57532861]\n",
      " [1.         0.34115132]\n",
      " [1.         1.74184644]\n",
      " [1.         0.35744998]\n",
      " [1.         1.79303739]]\n",
      "(100, 2)\n"
     ]
    }
   ],
   "source": [
    "print(np.c_[np.ones((100, 1)), X][:5])\n",
    "print(np.c_[np.ones((100, 1)), X].shape)"
   ]
  },
  {
   "cell_type": "markdown",
   "id": "27bc8a0e",
   "metadata": {},
   "source": [
    "#### 선형회귀 예측 결과 구현하기"
   ]
  },
  {
   "cell_type": "code",
   "execution_count": 9,
   "id": "23fedbdc",
   "metadata": {
    "ExecuteTime": {
     "end_time": "2021-05-25T13:47:55.008083Z",
     "start_time": "2021-05-25T13:47:54.995313Z"
    }
   },
   "outputs": [
    {
     "data": {
      "text/plain": [
       "array([[4.01280403],\n",
       "       [9.91467118]])"
      ]
     },
     "execution_count": 9,
     "metadata": {},
     "output_type": "execute_result"
    }
   ],
   "source": [
    "X_new = np.array([[0], [2]])\n",
    "X_new_b = np.c_[np.ones((2, 1)), X_new]\n",
    "\n",
    "y_predict = X_new_b.dot(theta_best)\n",
    "y_predict"
   ]
  },
  {
   "cell_type": "code",
   "execution_count": 10,
   "id": "9a75116a",
   "metadata": {
    "ExecuteTime": {
     "end_time": "2021-05-25T13:47:55.023757Z",
     "start_time": "2021-05-25T13:47:55.011081Z"
    }
   },
   "outputs": [
    {
     "data": {
      "text/plain": [
       "array([[0],\n",
       "       [2]])"
      ]
     },
     "execution_count": 10,
     "metadata": {},
     "output_type": "execute_result"
    }
   ],
   "source": [
    "X_new"
   ]
  },
  {
   "cell_type": "code",
   "execution_count": 11,
   "id": "61b4b241",
   "metadata": {
    "ExecuteTime": {
     "end_time": "2021-05-25T13:47:55.038819Z",
     "start_time": "2021-05-25T13:47:55.026114Z"
    }
   },
   "outputs": [
    {
     "data": {
      "text/plain": [
       "array([[1.],\n",
       "       [1.]])"
      ]
     },
     "execution_count": 11,
     "metadata": {},
     "output_type": "execute_result"
    }
   ],
   "source": [
    "np.ones((2, 1))"
   ]
  },
  {
   "cell_type": "code",
   "execution_count": 12,
   "id": "0a3d12a1",
   "metadata": {
    "ExecuteTime": {
     "end_time": "2021-05-25T13:47:55.054184Z",
     "start_time": "2021-05-25T13:47:55.041389Z"
    }
   },
   "outputs": [
    {
     "name": "stdout",
     "output_type": "stream",
     "text": [
      "[[1. 0.]\n",
      " [1. 2.]]\n",
      "(2, 2)\n"
     ]
    }
   ],
   "source": [
    "print(np.c_[np.ones((2, 1)), X_new])\n",
    "print(np.c_[np.ones((2, 1)), X_new].shape)"
   ]
  },
  {
   "cell_type": "code",
   "execution_count": 13,
   "id": "ea80bc96",
   "metadata": {
    "ExecuteTime": {
     "end_time": "2021-05-25T13:47:55.252801Z",
     "start_time": "2021-05-25T13:47:55.057572Z"
    }
   },
   "outputs": [
    {
     "data": {
      "image/png": "[encoded data removed]",
      "text/plain": [
       "<Figure size 432x288 with 1 Axes>"
      ]
     },
     "metadata": {
      "needs_background": "light"
     },
     "output_type": "display_data"
    }
   ],
   "source": [
    "plt.plot(X_new, y_predict, \"r-\") # r: red, - : line\n",
    "plt.plot(X, y, \"b.\")\n",
    "plt.axis([0, 2, 0, 15])\n",
    "plt.show()"
   ]
  },
  {
   "cell_type": "markdown",
   "id": "f5ecff75",
   "metadata": {},
   "source": [
    "#### 사이킷런으로 선형회귀 예측 결과 구현하기"
   ]
  },
  {
   "cell_type": "code",
   "execution_count": 14,
   "id": "b4949c59",
   "metadata": {
    "ExecuteTime": {
     "end_time": "2021-05-25T13:47:56.307321Z",
     "start_time": "2021-05-25T13:47:55.255921Z"
    }
   },
   "outputs": [
    {
     "data": {
      "text/plain": [
       "(array([4.01280403]), array([[2.95093358]]))"
      ]
     },
     "execution_count": 14,
     "metadata": {},
     "output_type": "execute_result"
    }
   ],
   "source": [
    "from sklearn.linear_model import LinearRegression\n",
    "\n",
    "lin_reg = LinearRegression()      # LinearRegression() 클래스 호출\n",
    "lin_reg.fit(X, y)                 # .fit(x, y): 데이터 이용해 모델 생성\n",
    "lin_reg.intercept_, lin_reg.coef_ # .intercept_ : 실수값 1개, .coef_ : numpy 배열"
   ]
  },
  {
   "cell_type": "code",
   "execution_count": 15,
   "id": "c1b7a497",
   "metadata": {
    "ExecuteTime": {
     "end_time": "2021-05-25T13:47:56.322512Z",
     "start_time": "2021-05-25T13:47:56.309318Z"
    }
   },
   "outputs": [
    {
     "data": {
      "text/plain": [
       "array([[4.01280403],\n",
       "       [9.91467118]])"
      ]
     },
     "execution_count": 15,
     "metadata": {},
     "output_type": "execute_result"
    }
   ],
   "source": [
    "X_new = np.array([[0], [2]])\n",
    "\n",
    "lin_reg.predict(X_new)            # .predict(x): 모델 예측"
   ]
  },
  {
   "cell_type": "markdown",
   "id": "f6133d95",
   "metadata": {},
   "source": [
    "### 4.2.1 배치 경사 하강법"
   ]
  },
  {
   "cell_type": "markdown",
   "id": "8e3d98db",
   "metadata": {},
   "source": [
    "#### 배치 경사 하강법을 사용한 선형회귀 예측 결과 구현하기"
   ]
  },
  {
   "cell_type": "code",
   "execution_count": 16,
   "id": "6ec6d4cf",
   "metadata": {
    "ExecuteTime": {
     "end_time": "2021-05-25T13:47:56.353226Z",
     "start_time": "2021-05-25T13:47:56.326988Z"
    }
   },
   "outputs": [
    {
     "data": {
      "text/plain": [
       "array([[4.01280403],\n",
       "       [2.95093358]])"
      ]
     },
     "execution_count": 16,
     "metadata": {},
     "output_type": "execute_result"
    }
   ],
   "source": [
    "eta = 0.1                    # 학습률\n",
    "n_iterations = 1000          # 반복 횟수\n",
    "m = 100                      # 샘플 수\n",
    "\n",
    "theta = np.random.randn(2,1) # 랜덤 초기화\n",
    "\n",
    "for iteration in range(n_iterations):\n",
    "    gradients = 2/m * X_b.T.dot(X_b.dot(theta) - y)\n",
    "    theta = theta - eta * gradients\n",
    "    \n",
    "theta"
   ]
  },
  {
   "cell_type": "markdown",
   "id": "8dcefc88",
   "metadata": {},
   "source": [
    "## 4.3 다항 회귀"
   ]
  },
  {
   "cell_type": "markdown",
   "id": "322df888",
   "metadata": {},
   "source": [
    "#### 2차 방정식으로 비선형 데이터 생성하기"
   ]
  },
  {
   "cell_type": "code",
   "execution_count": 17,
   "id": "6735ebc1",
   "metadata": {
    "ExecuteTime": {
     "end_time": "2021-05-25T13:47:56.368088Z",
     "start_time": "2021-05-25T13:47:56.355598Z"
    }
   },
   "outputs": [],
   "source": [
    "m = 100\n",
    "X = 6 * np.random.rand(m,1) - 3\n",
    "y = 0.5 * X**2 + X + 2 + np.random.randn(m,1)"
   ]
  },
  {
   "cell_type": "code",
   "execution_count": 18,
   "id": "53e11fac",
   "metadata": {
    "ExecuteTime": {
     "end_time": "2021-05-25T13:47:56.383109Z",
     "start_time": "2021-05-25T13:47:56.371090Z"
    },
    "scrolled": true
   },
   "outputs": [
    {
     "data": {
      "text/plain": [
       "array([[-0.13473586],\n",
       "       [-2.13836656],\n",
       "       [ 2.5557315 ],\n",
       "       [ 2.02108893],\n",
       "       [ 1.87110656]])"
      ]
     },
     "execution_count": 18,
     "metadata": {},
     "output_type": "execute_result"
    }
   ],
   "source": [
    "X[:5]"
   ]
  },
  {
   "cell_type": "code",
   "execution_count": 19,
   "id": "4f044e0a",
   "metadata": {
    "ExecuteTime": {
     "end_time": "2021-05-25T13:47:56.533455Z",
     "start_time": "2021-05-25T13:47:56.385402Z"
    }
   },
   "outputs": [
    {
     "data": {
      "image/png": "[encoded data removed]",
      "text/plain": [
       "<Figure size 432x288 with 1 Axes>"
      ]
     },
     "metadata": {
      "needs_background": "light"
     },
     "output_type": "display_data"
    }
   ],
   "source": [
    "plt.plot(X, y, \"b.\")\n",
    "plt.xlabel(\"$x_1$\", fontsize=18)\n",
    "plt.ylabel(\"$y$\", rotation=0, fontsize=18) # rotation: angle in degrees\n",
    "plt.axis([-3, 3, 0, 10])\n",
    "plt.show()"
   ]
  },
  {
   "cell_type": "markdown",
   "id": "dbf15348",
   "metadata": {},
   "source": [
    "#### 확장된 훈련 데이터에 선형회귀 적용하기"
   ]
  },
  {
   "cell_type": "code",
   "execution_count": 20,
   "id": "60a95e34",
   "metadata": {
    "ExecuteTime": {
     "end_time": "2021-05-25T13:47:56.548963Z",
     "start_time": "2021-05-25T13:47:56.534980Z"
    }
   },
   "outputs": [],
   "source": [
    "from sklearn.preprocessing import PolynomialFeatures\n",
    "\n",
    "# PolynomialFeatures: 훈련 세트(X)에 있는 각 특성을 제곱(degree=2)하여 새로운 훈련 데이터셋(X_poly)으로 만듦\n",
    "poly_features = PolynomialFeatures(degree=2, include_bias=False)\n",
    "X_poly = poly_features.fit_transform(X)"
   ]
  },
  {
   "cell_type": "code",
   "execution_count": 21,
   "id": "8b219f27",
   "metadata": {
    "ExecuteTime": {
     "end_time": "2021-05-25T13:47:56.564596Z",
     "start_time": "2021-05-25T13:47:56.551523Z"
    },
    "scrolled": true
   },
   "outputs": [
    {
     "data": {
      "text/plain": [
       "array([[-0.13473586,  0.01815375],\n",
       "       [-2.13836656,  4.57261152],\n",
       "       [ 2.5557315 ,  6.53176351],\n",
       "       [ 2.02108893,  4.08480045],\n",
       "       [ 1.87110656,  3.50103975]])"
      ]
     },
     "execution_count": 21,
     "metadata": {},
     "output_type": "execute_result"
    }
   ],
   "source": [
    "X_poly[:5]"
   ]
  },
  {
   "cell_type": "code",
   "execution_count": 22,
   "id": "9c617dd6",
   "metadata": {
    "ExecuteTime": {
     "end_time": "2021-05-25T13:47:56.595534Z",
     "start_time": "2021-05-25T13:47:56.573500Z"
    }
   },
   "outputs": [
    {
     "data": {
      "text/plain": [
       "(array([1.88273974]), array([[1.01636774, 0.53944821]]))"
      ]
     },
     "execution_count": 22,
     "metadata": {},
     "output_type": "execute_result"
    }
   ],
   "source": [
    "lin_reg = LinearRegression()      # LinearRegression() 클래스 호출\n",
    "lin_reg.fit(X_poly, y)            # .fit(x, y): 데이터 이용해 모델 생성\n",
    "lin_reg.intercept_, lin_reg.coef_ # .intercept_: 실수값 1개, .coef_: numpy 배열"
   ]
  },
  {
   "cell_type": "code",
   "execution_count": 23,
   "id": "a3601c24",
   "metadata": {
    "ExecuteTime": {
     "end_time": "2021-05-25T13:47:56.610795Z",
     "start_time": "2021-05-25T13:47:56.597523Z"
    }
   },
   "outputs": [
    {
     "data": {
      "text/plain": [
       "array([[-3.        ],\n",
       "       [-2.33333333],\n",
       "       [-1.66666667],\n",
       "       [-1.        ],\n",
       "       [-0.33333333],\n",
       "       [ 0.33333333],\n",
       "       [ 1.        ],\n",
       "       [ 1.66666667],\n",
       "       [ 2.33333333],\n",
       "       [ 3.        ]])"
      ]
     },
     "execution_count": 23,
     "metadata": {},
     "output_type": "execute_result"
    }
   ],
   "source": [
    "np.linspace(-3, 3, 10).reshape(10,1)"
   ]
  },
  {
   "cell_type": "code",
   "execution_count": 24,
   "id": "5f62a216",
   "metadata": {
    "ExecuteTime": {
     "end_time": "2021-05-25T13:47:56.749182Z",
     "start_time": "2021-05-25T13:47:56.613738Z"
    }
   },
   "outputs": [
    {
     "data": {
      "image/png": "[encoded data removed]",
      "text/plain": [
       "<Figure size 432x288 with 1 Axes>"
      ]
     },
     "metadata": {
      "needs_background": "light"
     },
     "output_type": "display_data"
    }
   ],
   "source": [
    "X_new = np.linspace(-3, 3, 100).reshape(100,1) # numpy.linspace(start, stop, num=50): start이상 stop이하까지 균일 간격으로 num개의 수 생성\n",
    "X_new_poly = poly_features.transform(X_new)\n",
    "y_new = lin_reg.predict(X_new_poly)\n",
    "plt.plot(X, y, \"b.\")\n",
    "plt.plot(X_new, y_new, \"r-\", linewidth=2)\n",
    "plt.xlabel(\"$x_1$\", fontsize=18)\n",
    "plt.ylabel(\"$y$\", rotation=0, fontsize=18)\n",
    "plt.axis([-3, 3, 0, 10])\n",
    "plt.show()"
   ]
  },
  {
   "cell_type": "markdown",
   "id": "03ffd20a",
   "metadata": {},
   "source": [
    "## 4.4 학습곡선"
   ]
  },
  {
   "cell_type": "markdown",
   "id": "09f331f4",
   "metadata": {},
   "source": [
    "#### 모델의 일반화 성능 추정(1): 단순 선형 회귀 모델(직선)의 학습 곡선 그리기"
   ]
  },
  {
   "cell_type": "code",
   "execution_count": 25,
   "id": "64fa3dba",
   "metadata": {
    "ExecuteTime": {
     "end_time": "2021-05-25T13:47:56.980650Z",
     "start_time": "2021-05-25T13:47:56.750897Z"
    },
    "scrolled": true
   },
   "outputs": [
    {
     "data": {
      "image/png": "[encoded data removed]",
      "text/plain": [
       "<Figure size 432x288 with 1 Axes>"
      ]
     },
     "metadata": {
      "needs_background": "light"
     },
     "output_type": "display_data"
    }
   ],
   "source": [
    "from sklearn.metrics import mean_squared_error\n",
    "from sklearn.model_selection import train_test_split\n",
    "\n",
    "def plot_learning_curves(model, X, y):\n",
    "    X_train, X_val, y_train, y_val = train_test_split(X, y, test_size=0.2, random_state=10) # 데이터셋 분류\n",
    "    train_errors, val_errors = [], []\n",
    "    for m in range(1, len(X_train)):\n",
    "        model.fit(X_train[:m], y_train[:m])\n",
    "        y_train_predict = model.predict(X_train[:m])\n",
    "        y_val_predict = model.predict(X_val)\n",
    "        train_errors.append(mean_squared_error(y_train[:m], y_train_predict))\n",
    "        val_errors.append(mean_squared_error(y_val, y_val_predict))\n",
    "        \n",
    "    plt.plot(np.sqrt(train_errors), \"r-\", linewidth=2, label=\"train\")\n",
    "    plt.plot(np.sqrt(val_errors), \"b-\", linewidth=3, label=\"val\")\n",
    "    plt.legend(loc=\"upper right\", fontsize=14)\n",
    "    plt.xlabel(\"Training set size\", fontsize=14)\n",
    "    plt.ylabel(\"RMSE\", fontsize=14)\n",
    "    \n",
    "lin_reg = LinearRegression()\n",
    "plot_learning_curves(lin_reg, X, y)\n",
    "plt.axis([0, 80, 0, 3])\n",
    "plt.show()"
   ]
  },
  {
   "cell_type": "markdown",
   "id": "fe9b998e",
   "metadata": {},
   "source": [
    "train set에 대한 오차가 높아지다가 점차적으로 1.5 정도에 수렴한다. validation set에 대한 오차도 처음에는 크지만 점차적으로 낮아져 수렴하고 있다. 하지만 train set에 대한 오차와 validation set에 대한 오차 차이가 작아 Underfitting 되었다고 할 수 있다."
   ]
  },
  {
   "cell_type": "code",
   "execution_count": 26,
   "id": "314ec2c7",
   "metadata": {
    "ExecuteTime": {
     "end_time": "2021-05-25T13:47:57.255655Z",
     "start_time": "2021-05-25T13:47:56.982208Z"
    }
   },
   "outputs": [
    {
     "data": {
      "image/png": "[encoded data removed]",
      "text/plain": [
       "<Figure size 432x288 with 1 Axes>"
      ]
     },
     "metadata": {
      "needs_background": "light"
     },
     "output_type": "display_data"
    }
   ],
   "source": [
    "from sklearn.pipeline import Pipeline\n",
    "\n",
    "# PolynomialFeatures(): 훈련 세트(X)에 있는 각 특성을 10제곱(degree=10)하여 새로운 훈련 데이터셋(X_poly)으로 만듦\n",
    "polynomial_regression = Pipeline([\n",
    "    (\"poly_features\", PolynomialFeatures(degree=10, include_bias=True)),\n",
    "    (\"lin_reg\", LinearRegression()),\n",
    "])\n",
    "\n",
    "plot_learning_curves(polynomial_regression, X, y)\n",
    "plt.axis([0, 80, 0, 3])\n",
    "plt.show()"
   ]
  },
  {
   "cell_type": "markdown",
   "id": "3a1b024e",
   "metadata": {},
   "source": [
    "train set에 대한 오차는 trains set이 늘어나면서 1.0 정도에 수렴한다. validation ste은 처음에는 오차가 상당히 높지만, 데이터가 늘어나면서 점차적으로 오차가 낮아져 수렴하고 있다. 하지만 train set에 대한 오차와 validation set에 대한 오차가 상대적으로 차이가 나기 때문에 Overfitting 되었다고 할 수 있다."
   ]
  },
  {
   "cell_type": "markdown",
   "id": "ce1f8f03",
   "metadata": {},
   "source": [
    "### 4.5.1 릿지 회귀"
   ]
  },
  {
   "cell_type": "markdown",
   "id": "183a72ac",
   "metadata": {},
   "source": [
    "릿지 회귀: 규제(L2 norm)가 추가된 선형 회귀"
   ]
  },
  {
   "cell_type": "code",
   "execution_count": 27,
   "id": "8fa97578",
   "metadata": {
    "ExecuteTime": {
     "end_time": "2021-05-25T13:47:57.271166Z",
     "start_time": "2021-05-25T13:47:57.257859Z"
    }
   },
   "outputs": [
    {
     "data": {
      "text/plain": [
       "array([[5.27090989]])"
      ]
     },
     "execution_count": 27,
     "metadata": {},
     "output_type": "execute_result"
    }
   ],
   "source": [
    "from sklearn.linear_model import Ridge\n",
    "ridge_reg = Ridge(alpha=1, solver=\"cholesky\", random_state=42) # solver=\"cholesky\": 계산하는 데 사용하는 알고리즘=숄레스키 분해\n",
    "ridge_reg.fit(X, y)\n",
    "ridge_reg.predict([[1.5]])                                     # 기대값 = 1.5"
   ]
  },
  {
   "cell_type": "markdown",
   "id": "5f561298",
   "metadata": {},
   "source": [
    "### 4.5.2 라쏘 회귀"
   ]
  },
  {
   "cell_type": "markdown",
   "id": "b2f15334",
   "metadata": {},
   "source": [
    "라쏘 회귀: 규제(L1 norm)가 추가된 선형 회귀"
   ]
  },
  {
   "cell_type": "code",
   "execution_count": 30,
   "id": "88516977",
   "metadata": {
    "ExecuteTime": {
     "end_time": "2021-05-25T13:57:56.027766Z",
     "start_time": "2021-05-25T13:57:56.000016Z"
    }
   },
   "outputs": [
    {
     "data": {
      "text/plain": [
       "array([5.23323347])"
      ]
     },
     "execution_count": 30,
     "metadata": {},
     "output_type": "execute_result"
    }
   ],
   "source": [
    "from sklearn.linear_model import Lasso\n",
    "lasso_reg = Lasso(alpha=0.1)\n",
    "lasso_reg.fit(X, y)\n",
    "lasso_reg.predict([[1.5]])"
   ]
  },
  {
   "cell_type": "markdown",
   "id": "ea341fef",
   "metadata": {},
   "source": [
    "### 4.5.3 엘라스틱넷"
   ]
  },
  {
   "cell_type": "markdown",
   "id": "103c76d1",
   "metadata": {},
   "source": [
    "엘라스틱넷: 릿지 회귀와 라쏘 회귀를 절충한 모델, 혼합 비율 r로 정도 조절"
   ]
  },
  {
   "cell_type": "code",
   "execution_count": 31,
   "id": "2f61b480",
   "metadata": {
    "ExecuteTime": {
     "end_time": "2021-05-25T14:13:58.596112Z",
     "start_time": "2021-05-25T14:13:58.584747Z"
    }
   },
   "outputs": [
    {
     "data": {
      "text/plain": [
       "array([5.23272119])"
      ]
     },
     "execution_count": 31,
     "metadata": {},
     "output_type": "execute_result"
    }
   ],
   "source": [
    "from sklearn.linear_model import ElasticNet\n",
    "elastic_net = ElasticNet(alpha=0.1, l1_ratio=0.5, random_state=42) # l1_ratio: 혼합 비율\n",
    "elastic_net.fit(X, y)\n",
    "elastic_net.predict([[1.5]])"
   ]
  },
  {
   "cell_type": "markdown",
   "id": "a5cde696",
   "metadata": {},
   "source": [
    "## 4.6 로지스틱 회귀"
   ]
  },
  {
   "cell_type": "markdown",
   "id": "3fc8b65e",
   "metadata": {},
   "source": [
    "### 4.6.3 결정 경계"
   ]
  },
  {
   "cell_type": "markdown",
   "id": "b1056c0a",
   "metadata": {},
   "source": [
    "데이터 로드"
   ]
  },
  {
   "cell_type": "code",
   "execution_count": 32,
   "id": "e2c7f7e4",
   "metadata": {
    "ExecuteTime": {
     "end_time": "2021-05-25T14:21:21.823290Z",
     "start_time": "2021-05-25T14:21:21.534902Z"
    }
   },
   "outputs": [
    {
     "data": {
      "text/plain": [
       "['data',\n",
       " 'target',\n",
       " 'frame',\n",
       " 'target_names',\n",
       " 'DESCR',\n",
       " 'feature_names',\n",
       " 'filename']"
      ]
     },
     "execution_count": 32,
     "metadata": {},
     "output_type": "execute_result"
    }
   ],
   "source": [
    "from sklearn import datasets\n",
    "iris = datasets.load_iris()\n",
    "list(iris.keys())"
   ]
  },
  {
   "cell_type": "code",
   "execution_count": 42,
   "id": "d29a7e96",
   "metadata": {
    "ExecuteTime": {
     "end_time": "2021-05-25T16:47:04.240035Z",
     "start_time": "2021-05-25T16:47:04.219852Z"
    }
   },
   "outputs": [
    {
     "data": {
      "text/plain": [
       "['sepal length (cm)',\n",
       " 'sepal width (cm)',\n",
       " 'petal length (cm)',\n",
       " 'petal width (cm)']"
      ]
     },
     "execution_count": 42,
     "metadata": {},
     "output_type": "execute_result"
    }
   ],
   "source": [
    "iris[\"feature_names\"]"
   ]
  },
  {
   "cell_type": "code",
   "execution_count": 34,
   "id": "5482ec8b",
   "metadata": {
    "ExecuteTime": {
     "end_time": "2021-05-25T14:22:32.296575Z",
     "start_time": "2021-05-25T14:22:32.286700Z"
    }
   },
   "outputs": [
    {
     "data": {
      "text/plain": [
       "array([[5.1, 3.5, 1.4, 0.2],\n",
       "       [4.9, 3. , 1.4, 0.2],\n",
       "       [4.7, 3.2, 1.3, 0.2],\n",
       "       [4.6, 3.1, 1.5, 0.2],\n",
       "       [5. , 3.6, 1.4, 0.2]])"
      ]
     },
     "execution_count": 34,
     "metadata": {},
     "output_type": "execute_result"
    }
   ],
   "source": [
    "iris[\"data\"][:5]"
   ]
  },
  {
   "cell_type": "code",
   "execution_count": 37,
   "id": "67a947d9",
   "metadata": {
    "ExecuteTime": {
     "end_time": "2021-05-25T14:22:55.711680Z",
     "start_time": "2021-05-25T14:22:55.685595Z"
    }
   },
   "outputs": [
    {
     "data": {
      "text/plain": [
       "array([2, 2, 2, 2, 2])"
      ]
     },
     "execution_count": 37,
     "metadata": {},
     "output_type": "execute_result"
    }
   ],
   "source": [
    "iris[\"target\"][-5:]"
   ]
  },
  {
   "cell_type": "code",
   "execution_count": 39,
   "id": "d0196ae2",
   "metadata": {
    "ExecuteTime": {
     "end_time": "2021-05-25T14:24:04.803425Z",
     "start_time": "2021-05-25T14:24:04.786103Z"
    }
   },
   "outputs": [],
   "source": [
    "X = iris[\"data\"][:, 3:]               # data 정보 중 꽃잎 넓이만 별도로 X에 저장\n",
    "y = (iris[\"target\"] == 2).astype(int) # iris virginica이면 1 아니면 0으로 분류"
   ]
  },
  {
   "cell_type": "markdown",
   "id": "188c918b",
   "metadata": {},
   "source": [
    "로지스틱 회귀 모델 훈련"
   ]
  },
  {
   "cell_type": "code",
   "execution_count": 40,
   "id": "a2273c3c",
   "metadata": {
    "ExecuteTime": {
     "end_time": "2021-05-25T16:38:22.887149Z",
     "start_time": "2021-05-25T16:38:22.854921Z"
    }
   },
   "outputs": [
    {
     "data": {
      "text/plain": [
       "LogisticRegression()"
      ]
     },
     "execution_count": 40,
     "metadata": {},
     "output_type": "execute_result"
    }
   ],
   "source": [
    "from sklearn.linear_model import LogisticRegression\n",
    "log_reg = LogisticRegression()\n",
    "log_reg.fit(X, y)"
   ]
  },
  {
   "cell_type": "markdown",
   "id": "8bfd1765",
   "metadata": {},
   "source": [
    "꽃잎의 너비가 0~3cm인 꽃에 대한 모델 추정 확률 계산"
   ]
  },
  {
   "cell_type": "code",
   "execution_count": 41,
   "id": "8033132d",
   "metadata": {
    "ExecuteTime": {
     "end_time": "2021-05-25T16:42:25.922187Z",
     "start_time": "2021-05-25T16:42:25.794544Z"
    }
   },
   "outputs": [
    {
     "data": {
      "text/plain": [
       "[<matplotlib.lines.Line2D at 0x1efb091a048>]"
      ]
     },
     "execution_count": 41,
     "metadata": {},
     "output_type": "execute_result"
    },
    {
     "data": {
      "image/png": "[encoded data removed]",
      "text/plain": [
       "<Figure size 432x288 with 1 Axes>"
      ]
     },
     "metadata": {
      "needs_background": "light"
     },
     "output_type": "display_data"
    }
   ],
   "source": [
    "# np.linspace(x,y,z): x~y 범위의 균일한 점 z개로 구성된 벡터 생성, reshape(-1, 1): 열 1개로 구성된 배열로 변경\n",
    "X_new = np.linspace(0, 3, 1000).reshape(-1, 1)\n",
    "y_proba = log_reg.predict_proba(X_new)\n",
    "\n",
    "plt.plot(X_new, y_proba[:, 1], \"g-\", linewidth=2, label=\"Iris virginica\")     # g: green\n",
    "plt.plot(X_new, y_proba[:, 0], \"b-\", linewidth=2, label=\"Not Iris virginica\") # b: blue"
   ]
  },
  {
   "cell_type": "markdown",
   "id": "f36ce727",
   "metadata": {},
   "source": [
    "### 4.6.4 소프트맥스 회귀"
   ]
  },
  {
   "cell_type": "code",
   "execution_count": 43,
   "id": "edf50d64",
   "metadata": {
    "ExecuteTime": {
     "end_time": "2021-05-25T16:48:36.041022Z",
     "start_time": "2021-05-25T16:48:35.997920Z"
    }
   },
   "outputs": [
    {
     "data": {
      "text/plain": [
       "LogisticRegression(C=10, multi_class='multinomial', random_state=42)"
      ]
     },
     "execution_count": 43,
     "metadata": {},
     "output_type": "execute_result"
    }
   ],
   "source": [
    "X = iris[\"data\"][:, (2,3)] # data 정보 중 꽃잎 길이, 꽃잎 너비만 별도로 X에 저장\n",
    "y = iris[\"target\"]\n",
    "\n",
    "# multinomial: 다항 클래스, C: L2 규제를 위한 cost function, C 값이 클 경우 약한 규제\n",
    "softmax_reg = LogisticRegression(multi_class=\"multinomial\", C=10, random_state=42)\n",
    "softmax_reg.fit(X, y)"
   ]
  },
  {
   "cell_type": "code",
   "execution_count": 44,
   "id": "7945271c",
   "metadata": {
    "ExecuteTime": {
     "end_time": "2021-05-25T16:49:01.177557Z",
     "start_time": "2021-05-25T16:49:01.150378Z"
    }
   },
   "outputs": [
    {
     "data": {
      "text/plain": [
       "array([2])"
      ]
     },
     "execution_count": 44,
     "metadata": {},
     "output_type": "execute_result"
    }
   ],
   "source": [
    "softmax_reg.predict([[5, 2]]) # class 예측"
   ]
  },
  {
   "cell_type": "code",
   "execution_count": 45,
   "id": "670d4811",
   "metadata": {
    "ExecuteTime": {
     "end_time": "2021-05-25T16:49:18.715906Z",
     "start_time": "2021-05-25T16:49:18.699968Z"
    }
   },
   "outputs": [
    {
     "data": {
      "text/plain": [
       "array([[6.38014896e-07, 5.74929995e-02, 9.42506362e-01]])"
      ]
     },
     "execution_count": 45,
     "metadata": {},
     "output_type": "execute_result"
    }
   ],
   "source": [
    "softmax_reg.predict_proba([[5, 2]]) # class별 확률 예측"
   ]
  }
 ],
 "metadata": {
  "kernelspec": {
   "display_name": "Python 3",
   "language": "python",
   "name": "python3"
  },
  "language_info": {
   "codemirror_mode": {
    "name": "ipython",
    "version": 3
   },
   "file_extension": ".py",
   "mimetype": "text/x-python",
   "name": "python",
   "nbconvert_exporter": "python",
   "pygments_lexer": "ipython3",
   "version": "3.7.9"
  },
  "toc": {
   "base_numbering": 1,
   "nav_menu": {},
   "number_sections": false,
   "sideBar": true,
   "skip_h1_title": false,
   "title_cell": "Table of Contents",
   "title_sidebar": "Contents",
   "toc_cell": false,
   "toc_position": {
    "height": "calc(100% - 180px)",
    "left": "10px",
    "top": "150px",
    "width": "165px"
   },
   "toc_section_display": true,
   "toc_window_display": false
  }
 },
 "nbformat": 4,
 "nbformat_minor": 5
}
