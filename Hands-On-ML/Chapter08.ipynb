{
 "cells": [
  {
   "cell_type": "markdown",
   "id": "cef9d45c",
   "metadata": {},
   "source": [
    "# 8장. 차원축소"
   ]
  },
  {
   "cell_type": "markdown",
   "id": "f8c67f48",
   "metadata": {},
   "source": [
    "## 8.3 PCA"
   ]
  },
  {
   "cell_type": "markdown",
   "id": "8ee9b583",
   "metadata": {},
   "source": [
    "### 8.3.2 주성분"
   ]
  },
  {
   "cell_type": "code",
   "execution_count": 1,
   "id": "01f7613c",
   "metadata": {
    "ExecuteTime": {
     "end_time": "2021-06-10T13:07:53.755883Z",
     "start_time": "2021-06-10T13:07:52.895118Z"
    }
   },
   "outputs": [],
   "source": [
    "import numpy as np\n",
    "from sklearn.datasets import make_swiss_roll\n",
    "\n",
    "X, t = make_swiss_roll(n_samples=1000, noise=0.2, random_state=42)"
   ]
  },
  {
   "cell_type": "code",
   "execution_count": 2,
   "id": "706dd3ae",
   "metadata": {
    "ExecuteTime": {
     "end_time": "2021-06-10T13:07:53.786540Z",
     "start_time": "2021-06-10T13:07:53.757905Z"
    }
   },
   "outputs": [],
   "source": [
    "X_centered = X - X.mean(axis=0) # PCA는 데이터셋의 평균이 0이라고 가정하므로 평균을 0으로 만들어 줌\n",
    "U, s, Vt = np.linalg.svd(X_centered)\n",
    "c1 = Vt.T[:, 0]\n",
    "c2 = Vt.T[:, 1]"
   ]
  },
  {
   "cell_type": "code",
   "execution_count": 3,
   "id": "b326f010",
   "metadata": {
    "ExecuteTime": {
     "end_time": "2021-06-10T13:07:53.801375Z",
     "start_time": "2021-06-10T13:07:53.788364Z"
    }
   },
   "outputs": [
    {
     "name": "stdout",
     "output_type": "stream",
     "text": [
      "X_centered: [[-3.29677117  4.26198454  7.69787682]\n",
      " [ 5.95972743 11.45784273 12.72625276]\n",
      " [ 6.66051523 18.15820401 -9.84713337]\n",
      " ...\n",
      " [ 6.18364276  1.44095323 -1.71242696]\n",
      " [ 5.86076169  1.09185823 12.47091112]\n",
      " [-8.16213703  5.61235668  4.51171684]]\n",
      "c1: [0.56791312 0.15670748 0.80803308] c2: [-0.77712377 -0.2213858   0.5891239 ]\n"
     ]
    }
   ],
   "source": [
    "print('X_centered:', X)\n",
    "print('c1:', c1, 'c2:', c2)"
   ]
  },
  {
   "cell_type": "markdown",
   "id": "b4ec2ff8",
   "metadata": {},
   "source": [
    "### 8.3.4 사이킷런 사용하기"
   ]
  },
  {
   "cell_type": "code",
   "execution_count": 4,
   "id": "ab618430",
   "metadata": {
    "ExecuteTime": {
     "end_time": "2021-06-10T13:07:53.908724Z",
     "start_time": "2021-06-10T13:07:53.802379Z"
    }
   },
   "outputs": [],
   "source": [
    "from sklearn.decomposition import PCA\n",
    "\n",
    "pca = PCA(n_components=2) # 2차원으로 축소\n",
    "X2D = pca.fit_transform(X)"
   ]
  },
  {
   "cell_type": "code",
   "execution_count": 5,
   "id": "f4b82c67",
   "metadata": {
    "ExecuteTime": {
     "end_time": "2021-06-10T13:07:53.924058Z",
     "start_time": "2021-06-10T13:07:53.910214Z"
    }
   },
   "outputs": [
    {
     "name": "stdout",
     "output_type": "stream",
     "text": [
      "pca: PCA(n_components=2)\n",
      "X2D: [[  2.08374001   9.97769318]\n",
      " [ 12.53136592   4.15352368]\n",
      " [ -4.26069341 -11.17296129]\n",
      " ...\n",
      " [ -0.57812196  -2.30906044]\n",
      " [ 10.64441015   6.37488622]\n",
      " [ -3.04227432  11.58268844]]\n"
     ]
    }
   ],
   "source": [
    "print(\"pca:\", pca)\n",
    "print(\"X2D:\", X2D)"
   ]
  },
  {
   "cell_type": "code",
   "execution_count": 6,
   "id": "bb290ec3",
   "metadata": {
    "ExecuteTime": {
     "end_time": "2021-06-10T13:07:53.939089Z",
     "start_time": "2021-06-10T13:07:53.925528Z"
    }
   },
   "outputs": [
    {
     "name": "stdout",
     "output_type": "stream",
     "text": [
      "c1: [0.56791312 0.15670748 0.80803308] c2: [-0.77712377 -0.2213858   0.5891239 ]\n"
     ]
    }
   ],
   "source": [
    "print('c1:', pca.components_.T[:,0], 'c2:', pca.components_.T[:,1])"
   ]
  },
  {
   "cell_type": "markdown",
   "id": "c6e5c74c",
   "metadata": {},
   "source": [
    "### 8.3.6 적절한 차원 수 선택하기"
   ]
  },
  {
   "cell_type": "code",
   "execution_count": 7,
   "id": "89053e4b",
   "metadata": {
    "ExecuteTime": {
     "end_time": "2021-06-10T13:07:53.953996Z",
     "start_time": "2021-06-10T13:07:53.941897Z"
    }
   },
   "outputs": [
    {
     "data": {
      "text/plain": [
       "array([0.40782396, 0.3020019 ])"
      ]
     },
     "execution_count": 7,
     "metadata": {},
     "output_type": "execute_result"
    }
   ],
   "source": [
    "pca.explained_variance_ratio_"
   ]
  },
  {
   "cell_type": "code",
   "execution_count": 8,
   "id": "657853c6",
   "metadata": {
    "ExecuteTime": {
     "end_time": "2021-06-10T13:08:34.741870Z",
     "start_time": "2021-06-10T13:07:53.956497Z"
    }
   },
   "outputs": [
    {
     "name": "stdout",
     "output_type": "stream",
     "text": [
      "dict_keys(['data', 'target', 'frame', 'categories', 'feature_names', 'target_names', 'DESCR', 'details', 'url'])\n"
     ]
    }
   ],
   "source": [
    "from sklearn.datasets import fetch_openml\n",
    "mnist = fetch_openml('mnist_784', version=1)\n",
    "print(mnist.keys())"
   ]
  },
  {
   "cell_type": "code",
   "execution_count": 9,
   "id": "d211170e",
   "metadata": {
    "ExecuteTime": {
     "end_time": "2021-06-10T13:08:34.757517Z",
     "start_time": "2021-06-10T13:08:34.744424Z"
    }
   },
   "outputs": [
    {
     "name": "stdout",
     "output_type": "stream",
     "text": [
      "X.shape: (70000, 784)\n",
      "y.shape: (70000,)\n"
     ]
    }
   ],
   "source": [
    "X, y = mnist[\"data\"], mnist[\"target\"]\n",
    "print(\"X.shape:\", X.shape)\n",
    "print(\"y.shape:\", y.shape)"
   ]
  },
  {
   "cell_type": "code",
   "execution_count": 11,
   "id": "cae132a6",
   "metadata": {
    "ExecuteTime": {
     "end_time": "2021-06-10T13:08:41.327963Z",
     "start_time": "2021-06-10T13:08:41.312776Z"
    }
   },
   "outputs": [
    {
     "name": "stdout",
     "output_type": "stream",
     "text": [
      "<class 'str'>\n"
     ]
    }
   ],
   "source": [
    "print(type(y[0]))\n",
    "y = y.astype(np.uint8)"
   ]
  },
  {
   "cell_type": "code",
   "execution_count": 12,
   "id": "507d9e01",
   "metadata": {
    "ExecuteTime": {
     "end_time": "2021-06-10T13:08:43.978924Z",
     "start_time": "2021-06-10T13:08:43.965878Z"
    }
   },
   "outputs": [],
   "source": [
    "X_train, X_test, y_train, y_test = X[:60000], X[60000:], y[:60000], y[60000:]"
   ]
  },
  {
   "cell_type": "code",
   "execution_count": 13,
   "id": "a2aa30d0",
   "metadata": {
    "ExecuteTime": {
     "end_time": "2021-06-10T13:08:49.498540Z",
     "start_time": "2021-06-10T13:08:44.478213Z"
    }
   },
   "outputs": [],
   "source": [
    "pca = PCA()\n",
    "pca.fit(X_train)\n",
    "cumsum = np.cumsum(pca.explained_variance_ratio_)\n",
    "d = np.argmax(cumsum >= 0.95) + 1"
   ]
  },
  {
   "cell_type": "code",
   "execution_count": 14,
   "id": "b64b3485",
   "metadata": {
    "ExecuteTime": {
     "end_time": "2021-06-10T13:08:49.514285Z",
     "start_time": "2021-06-10T13:08:49.500533Z"
    }
   },
   "outputs": [
    {
     "name": "stdout",
     "output_type": "stream",
     "text": [
      "154\n"
     ]
    }
   ],
   "source": [
    "print(d)"
   ]
  },
  {
   "cell_type": "code",
   "execution_count": 15,
   "id": "397a9f8c",
   "metadata": {
    "ExecuteTime": {
     "end_time": "2021-06-10T13:10:10.961409Z",
     "start_time": "2021-06-10T13:10:06.188436Z"
    }
   },
   "outputs": [],
   "source": [
    "pca = PCA(n_components=0.95)\n",
    "X_reduced = pca.fit_transform(X_train)"
   ]
  },
  {
   "cell_type": "markdown",
   "id": "c0811f66",
   "metadata": {},
   "source": [
    "## 8.5 LLE"
   ]
  },
  {
   "cell_type": "code",
   "execution_count": 18,
   "id": "e846a920",
   "metadata": {
    "ExecuteTime": {
     "end_time": "2021-06-10T13:43:47.901434Z",
     "start_time": "2021-06-10T13:43:47.885377Z"
    }
   },
   "outputs": [],
   "source": [
    "import matplotlib.pyplot as plt\n",
    "from sklearn.datasets import make_swiss_roll\n",
    "X, t = make_swiss_roll(n_samples=1000, noise=0.2, random_state=42)"
   ]
  },
  {
   "cell_type": "code",
   "execution_count": 19,
   "id": "26b427e6",
   "metadata": {
    "ExecuteTime": {
     "end_time": "2021-06-10T13:44:41.376006Z",
     "start_time": "2021-06-10T13:44:41.241901Z"
    }
   },
   "outputs": [],
   "source": [
    "from sklearn.manifold import LocallyLinearEmbedding\n",
    "\n",
    "lle = LocallyLinearEmbedding(n_components=2, n_neighbors=10, random_state=42)\n",
    "X_reduced = lle.fit_transform(X)"
   ]
  },
  {
   "cell_type": "code",
   "execution_count": 22,
   "id": "ebf49b35",
   "metadata": {
    "ExecuteTime": {
     "end_time": "2021-06-10T13:47:07.631430Z",
     "start_time": "2021-06-10T13:47:07.413939Z"
    }
   },
   "outputs": [
    {
     "data": {
      "image/png": "[encoded data removed]",
      "text/plain": [
       "<Figure size 432x288 with 1 Axes>"
      ]
     },
     "metadata": {
      "needs_background": "light"
     },
     "output_type": "display_data"
    }
   ],
   "source": [
    "plt.title(\"Unrolled swiss roll using LLE\", fontsize=14)\n",
    "plt.scatter(X_reduced[:, 0], X_reduced[:, 1], c=t, cmap=plt.cm.hot)\n",
    "plt.xlabel(\"$z_1$\", fontsize=18)\n",
    "plt.xlabel(\"$z_2$\", fontsize=18)\n",
    "plt.axis([-0.065, 0.055, -0.1, 0.12])\n",
    "plt.grid(True)\n",
    "\n",
    "plt.show()"
   ]
  }
 ],
 "metadata": {
  "kernelspec": {
   "display_name": "Python 3",
   "language": "python",
   "name": "python3"
  },
  "language_info": {
   "codemirror_mode": {
    "name": "ipython",
    "version": 3
   },
   "file_extension": ".py",
   "mimetype": "text/x-python",
   "name": "python",
   "nbconvert_exporter": "python",
   "pygments_lexer": "ipython3",
   "version": "3.7.9"
  },
  "toc": {
   "base_numbering": 1,
   "nav_menu": {},
   "number_sections": false,
   "sideBar": true,
   "skip_h1_title": false,
   "title_cell": "Table of Contents",
   "title_sidebar": "Contents",
   "toc_cell": false,
   "toc_position": {},
   "toc_section_display": true,
   "toc_window_display": true
  }
 },
 "nbformat": 4,
 "nbformat_minor": 5
}
